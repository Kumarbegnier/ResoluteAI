{
 "cells": [
  {
   "cell_type": "code",
   "execution_count": 19,
   "id": "c7e95d3c-31c9-4f9c-aacd-f3f6e29ffead",
   "metadata": {},
   "outputs": [
    {
     "name": "stdin",
     "output_type": "stream",
     "text": [
      "Enter the path to the image:  C:\\Users\\cuk18\\Downloads\\Resolute AI Software Private Limited\\data\\data\\Task1 data\\2.jpg\n"
     ]
    },
    {
     "name": "stdout",
     "output_type": "stream",
     "text": [
      "Total number of boxes: 16\n"
     ]
    }
   ],
   "source": [
    "import cv2\n",
    "import numpy as np\n",
    "\n",
    "def detect_boxes(image_path):\n",
    "    # Load the image\n",
    "    image = cv2.imread(image_path)\n",
    "    \n",
    "    # Convert the image to grayscale\n",
    "    gray = cv2.cvtColor(image, cv2.COLOR_BGR2GRAY)\n",
    "\n",
    "    # Apply Gaussian blur to the grayscale image\n",
    "    blurred = cv2.GaussianBlur(gray, (5, 5), 0)\n",
    "\n",
    "    # Perform Canny edge detection to detect edges\n",
    "    edges = cv2.Canny(blurred, 30, 150)\n",
    "\n",
    "    # Perform dilation and erosion to close gaps in between edges\n",
    "    kernel = np.ones((5, 5), np.uint8)\n",
    "    dilated = cv2.dilate(edges, kernel, iterations=1)\n",
    "    closed = cv2.erode(dilated, kernel, iterations=1)\n",
    "\n",
    "    # Find contours in the closed image\n",
    "    contours, _ = cv2.findContours(closed.copy(), cv2.RETR_EXTERNAL, cv2.CHAIN_APPROX_SIMPLE)\n",
    "\n",
    "    # Filter contours based on area and aspect ratio to detect boxes\n",
    "    min_area = 1000\n",
    "    max_aspect_ratio = 5\n",
    "    boxes = []\n",
    "    for contour in contours:\n",
    "        x, y, w, h = cv2.boundingRect(contour)\n",
    "        aspect_ratio = w / float(h)\n",
    "        area = cv2.contourArea(contour)\n",
    "        if area > min_area and aspect_ratio < max_aspect_ratio:\n",
    "            boxes.append((x, y, w, h))\n",
    "\n",
    "    return len(boxes)\n",
    "\n",
    "# User input: Path to the image\n",
    "image_path = input(\"Enter the path to the image: \")\n",
    "\n",
    "# Detect boxes in the image\n",
    "num_boxes = detect_boxes(image_path)\n",
    "\n",
    "# Display the total number of boxes\n",
    "print(f\"Total number of boxes: {num_boxes}\")\n"
   ]
  },
  {
   "cell_type": "code",
   "execution_count": 22,
   "id": "9611229e-ef2a-44be-b856-5f15e9f12176",
   "metadata": {},
   "outputs": [
    {
     "name": "stdin",
     "output_type": "stream",
     "text": [
      "Enter the path to the image:  C:\\Users\\cuk18\\Downloads\\Resolute AI Software Private Limited\\data\\data\\Task1 data\\4.jpg\n"
     ]
    },
    {
     "name": "stdout",
     "output_type": "stream",
     "text": [
      "Total number of boxes: 90\n"
     ]
    }
   ],
   "source": [
    "import cv2\n",
    "import numpy as np\n",
    "\n",
    "def detect_boxes(image_path):\n",
    "    # Load the image\n",
    "    image = cv2.imread(image_path)\n",
    "    \n",
    "    # Convert the image to grayscale\n",
    "    gray = cv2.cvtColor(image, cv2.COLOR_BGR2GRAY)\n",
    "\n",
    "    # Apply Gaussian blur to the grayscale image\n",
    "    blurred = cv2.GaussianBlur(gray, (5, 5), 0)\n",
    "\n",
    "    # Perform Canny edge detection to detect edges\n",
    "    edges = cv2.Canny(blurred, 30, 150)\n",
    "\n",
    "    # Perform dilation and erosion to close gaps in between edges\n",
    "    kernel = np.ones((5, 5), np.uint8)\n",
    "    dilated = cv2.dilate(edges, kernel, iterations=1)\n",
    "    closed = cv2.erode(dilated, kernel, iterations=1)\n",
    "\n",
    "    # Find contours in the closed image\n",
    "    contours, _ = cv2.findContours(closed.copy(), cv2.RETR_EXTERNAL, cv2.CHAIN_APPROX_SIMPLE)\n",
    "\n",
    "    # Filter contours based on area and aspect ratio to detect boxes\n",
    "    min_area = 1000\n",
    "    max_aspect_ratio = 5\n",
    "    boxes = []\n",
    "    for contour in contours:\n",
    "        x, y, w, h = cv2.boundingRect(contour)\n",
    "        aspect_ratio = w / float(h)\n",
    "        area = cv2.contourArea(contour)\n",
    "        if area > min_area and aspect_ratio < max_aspect_ratio:\n",
    "            boxes.append((x, y, w, h))\n",
    "\n",
    "    return len(boxes)\n",
    "\n",
    "# User input: Path to the image\n",
    "image_path = input(\"Enter the path to the image: \")\n",
    "\n",
    "# Detect boxes in the image\n",
    "num_boxes = detect_boxes(image_path)\n",
    "\n",
    "# Display the total number of boxes\n",
    "print(f\"Total number of boxes: {num_boxes}\")\n"
   ]
  },
  {
   "cell_type": "code",
   "execution_count": null,
   "id": "1a95e584-a03a-416c-a7e4-eef830c4413f",
   "metadata": {},
   "outputs": [],
   "source": []
  }
 ],
 "metadata": {
  "kernelspec": {
   "display_name": "Python 3 (ipykernel)",
   "language": "python",
   "name": "python3"
  },
  "language_info": {
   "codemirror_mode": {
    "name": "ipython",
    "version": 3
   },
   "file_extension": ".py",
   "mimetype": "text/x-python",
   "name": "python",
   "nbconvert_exporter": "python",
   "pygments_lexer": "ipython3",
   "version": "3.8.18"
  }
 },
 "nbformat": 4,
 "nbformat_minor": 5
}
